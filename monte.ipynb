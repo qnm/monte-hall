{
  "nbformat": 4,
  "nbformat_minor": 0,
  "metadata": {
    "colab": {
      "name": "monte.ipynb",
      "provenance": [],
      "collapsed_sections": [],
      "authorship_tag": "ABX9TyNzmqetCWBPcbk1tff8sCQh",
      "include_colab_link": true
    },
    "kernelspec": {
      "name": "python3",
      "display_name": "Python 3"
    }
  },
  "cells": [
    {
      "cell_type": "markdown",
      "metadata": {
        "id": "view-in-github",
        "colab_type": "text"
      },
      "source": [
        "<a href=\"https://colab.research.google.com/github/qnm/monte-hall/blob/master/monte.ipynb\" target=\"_parent\"><img src=\"https://colab.research.google.com/assets/colab-badge.svg\" alt=\"Open In Colab\"/></a>"
      ]
    },
    {
      "cell_type": "code",
      "metadata": {
        "id": "r0p3uO6_xhKx",
        "colab_type": "code",
        "colab": {}
      },
      "source": [
        "import numpy as np\n",
        "\n",
        "def winning_door(doors):\n",
        " return np.random.choice(doors)\n",
        "\n",
        "def players_choice(doors):\n",
        "  return np.random.choice(doors)\n",
        "\n",
        "def reveal_door(doors):\n",
        "  return null\n",
        "\n",
        "def crude_monte_carlo(runs, algo):\n",
        "  # run our simulation num_simulations times\n",
        "  return list(map(algo, range(num_simulations)))"
      ],
      "execution_count": 0,
      "outputs": []
    },
    {
      "cell_type": "code",
      "metadata": {
        "id": "LQYaIbluzNRF",
        "colab_type": "code",
        "colab": {
          "base_uri": "https://localhost:8080/",
          "height": 34
        },
        "outputId": "c54b7114-8185-454c-faf2-c747456b4c8f"
      },
      "source": [
        "\n",
        "def player_does_not_switch(iter):\n",
        "  doors = ([\"Door 1\", \"Door 2\", \"Door 3\"])\n",
        "\n",
        "  return winning_door(doors) == players_choice(doors)\n",
        "\n",
        "num_simulations = 5000\n",
        "results = crude_monte_carlo(num_simulations, player_does_not_switch)\n",
        "\n",
        "wins = results.count(True)\n",
        "\n",
        "print(\"From {} runs, the player won {} times, which is {}%.\".format(num_simulations, wins, (wins/num_simulations * 100)))"
      ],
      "execution_count": 99,
      "outputs": [
        {
          "output_type": "stream",
          "text": [
            "From 5000 runs, the player won 1654 times, which is 33.08%.\n"
          ],
          "name": "stdout"
        }
      ]
    },
    {
      "cell_type": "code",
      "metadata": {
        "id": "jufqsjWQzMSq",
        "colab_type": "code",
        "colab": {
          "base_uri": "https://localhost:8080/",
          "height": 34
        },
        "outputId": "23456737-09cc-405a-d77c-d8d9b3b49312"
      },
      "source": [
        "import random \n",
        "\n",
        "def player_does_switch(iter):\n",
        "  doors = set([\"Door 1\", \"Door 2\", \"Door 3\"])\n",
        "\n",
        "  winning_door = set(random.sample(doors, 1))\n",
        "  #print(winning_door)\n",
        "\n",
        "  players_choice = set(random.sample(doors, 1))\n",
        "  #print(players_choice)\n",
        "\n",
        "  # the host now opens a losing door\n",
        "  losing_door = set(random.sample(doors.difference(winning_door).difference(players_choice), 1))\n",
        "  #print(losing_door)\n",
        "\n",
        "  # the player switches to the other door\n",
        "  players_choice = set(doors.difference(players_choice).difference(losing_door))\n",
        "  #print(players_choice)\n",
        "\n",
        "  return winning_door == players_choice\n",
        "\n",
        "num_simulations = 5000\n",
        "results = crude_monte_carlo(num_simulations, player_does_switch)\n",
        "\n",
        "wins = results.count(True)\n",
        "\n",
        "print(\"From {} runs, the player won {} times, which is {}%.\".format(num_simulations, wins, (wins/num_simulations * 100)))"
      ],
      "execution_count": 3,
      "outputs": [
        {
          "output_type": "stream",
          "text": [
            "From 5000 runs, the player won 3353 times, which is 67.06%.\n"
          ],
          "name": "stdout"
        }
      ]
    },
    {
      "cell_type": "code",
      "metadata": {
        "id": "U_F3NDXRCX5v",
        "colab_type": "code",
        "colab": {}
      },
      "source": [
        ""
      ],
      "execution_count": 0,
      "outputs": []
    }
  ]
}